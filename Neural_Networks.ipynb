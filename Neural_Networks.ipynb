{
  "nbformat": 4,
  "nbformat_minor": 0,
  "metadata": {
    "colab": {
      "provenance": [],
      "authorship_tag": "ABX9TyNdXqKhacq66ZVSkDGKLEck",
      "include_colab_link": true
    },
    "kernelspec": {
      "name": "python3",
      "display_name": "Python 3"
    },
    "language_info": {
      "name": "python"
    }
  },
  "cells": [
    {
      "cell_type": "markdown",
      "metadata": {
        "id": "view-in-github",
        "colab_type": "text"
      },
      "source": [
        "<a href=\"https://colab.research.google.com/github/FastBackendML/FastBackendML/blob/main/Neural_Networks.ipynb\" target=\"_parent\"><img src=\"https://colab.research.google.com/assets/colab-badge.svg\" alt=\"Open In Colab\"/></a>"
      ]
    },
    {
      "cell_type": "markdown",
      "source": [
        "#1.10 Использование CPU и GPU на примере простой НС"
      ],
      "metadata": {
        "id": "SMqb4Tzb5qQl"
      }
    },
    {
      "cell_type": "code",
      "source": [
        "import torch"
      ],
      "metadata": {
        "id": "RFQDfawm5r2r"
      },
      "execution_count": null,
      "outputs": []
    },
    {
      "cell_type": "code",
      "source": [
        "torch.cuda.is_available()"
      ],
      "metadata": {
        "colab": {
          "base_uri": "https://localhost:8080/"
        },
        "id": "c8n1ptGH54og",
        "outputId": "99fd76ff-d7d9-4a47-ed03-16b1e613bec9"
      },
      "execution_count": null,
      "outputs": [
        {
          "output_type": "execute_result",
          "data": {
            "text/plain": [
              "False"
            ]
          },
          "metadata": {},
          "execution_count": 4
        }
      ]
    },
    {
      "cell_type": "code",
      "source": [
        "device = torch.device('cuda' if torch.cuda.is_available() else 'cpu')\n",
        "t1 = torch.arange(1,6, dtype=torch.int32, device=device)\n",
        "t2 = torch.ones(15, dtype=torch.float32, device=device).view(3,5)\n",
        "t_res = t2.matmul(t1.float()).to(device='cpu')"
      ],
      "metadata": {
        "id": "iI8h0ORDHJoM"
      },
      "execution_count": null,
      "outputs": []
    },
    {
      "cell_type": "code",
      "source": [
        "t_res"
      ],
      "metadata": {
        "colab": {
          "base_uri": "https://localhost:8080/"
        },
        "id": "g9NwZDzFHLPv",
        "outputId": "0e90d59a-fdc2-4b0d-8be7-c29bba6b8622"
      },
      "execution_count": null,
      "outputs": [
        {
          "output_type": "execute_result",
          "data": {
            "text/plain": [
              "tensor([15., 15., 15.])"
            ]
          },
          "metadata": {},
          "execution_count": 24
        }
      ]
    },
    {
      "cell_type": "markdown",
      "source": [
        "Task 2"
      ],
      "metadata": {
        "id": "4Az6bvbQIOQi"
      }
    },
    {
      "cell_type": "code",
      "source": [
        "device = torch.device(\"cuda\" if torch.cuda.is_available() else \"cpu\")"
      ],
      "metadata": {
        "id": "uNcp6ojOIRvv"
      },
      "execution_count": null,
      "outputs": []
    },
    {
      "cell_type": "code",
      "source": [
        "targets = torch.rand(1000).to(device)\n",
        "predict = torch.rand(1000).to(device)"
      ],
      "metadata": {
        "id": "qlHM-8wZIhzL"
      },
      "execution_count": null,
      "outputs": []
    },
    {
      "cell_type": "code",
      "source": [
        "Q = torch.sum(torch.pow((targets - predict), 2)) / 1000"
      ],
      "metadata": {
        "id": "qIXmg5tbInIO"
      },
      "execution_count": null,
      "outputs": []
    },
    {
      "cell_type": "code",
      "source": [
        "Q = Q.to('cpu')"
      ],
      "metadata": {
        "id": "eWtFaaqNJLgi"
      },
      "execution_count": null,
      "outputs": []
    },
    {
      "cell_type": "code",
      "source": [
        "Q"
      ],
      "metadata": {
        "colab": {
          "base_uri": "https://localhost:8080/"
        },
        "id": "wFoUv_VMJbQG",
        "outputId": "145a2363-bc98-4bbb-c02f-84fc8e69dd17"
      },
      "execution_count": null,
      "outputs": [
        {
          "output_type": "execute_result",
          "data": {
            "text/plain": [
              "tensor(169.7121)"
            ]
          },
          "metadata": {},
          "execution_count": 30
        }
      ]
    },
    {
      "cell_type": "markdown",
      "source": [
        "Task 3"
      ],
      "metadata": {
        "id": "c3h-_3SmKXs6"
      }
    },
    {
      "cell_type": "code",
      "source": [
        "device = torch.device(\"cuda\" if torch.cuda.is_available() else \"cpu\")\n",
        "\n",
        "w = torch.rand(1, 16).to(device) # вектор-строка\n",
        "X = torch.rand(16, 16).to(device) # матрица 16 x 16\n",
        "I = torch.eye(16).to(device) # единичная матрица 16 x 16\n",
        "lm = 0.5 # значение лямбда"
      ],
      "metadata": {
        "id": "ALJ8qMu9Jovx"
      },
      "execution_count": null,
      "outputs": []
    },
    {
      "cell_type": "code",
      "source": [
        "Q = w.matmul((X.add(I.mul(lm)))).matmul(w.transpose(0,1))"
      ],
      "metadata": {
        "id": "_WUz_7DcLtKt"
      },
      "execution_count": null,
      "outputs": []
    },
    {
      "cell_type": "code",
      "source": [
        "Q.to('cpu')"
      ],
      "metadata": {
        "colab": {
          "base_uri": "https://localhost:8080/"
        },
        "id": "LZkhGaFRNXC9",
        "outputId": "65329988-bbd5-4f9a-8f87-a8f0db0dbac1"
      },
      "execution_count": null,
      "outputs": [
        {
          "output_type": "execute_result",
          "data": {
            "text/plain": [
              "tensor([[27.8480]])"
            ]
          },
          "metadata": {},
          "execution_count": 33
        }
      ]
    },
    {
      "cell_type": "markdown",
      "source": [
        "Task 4"
      ],
      "metadata": {
        "id": "jbQSBwo9OZr-"
      }
    },
    {
      "cell_type": "code",
      "source": [
        "import torch\n",
        "# все эти переменные в программе не менять, только тензоры разместить на device\n",
        "device = torch.device(\"cuda\" if torch.cuda.is_available() else \"cpu\")\n",
        "\n",
        "W = torch.rand(3) * 10 - 5\n",
        "bias = torch.rand(1) * 100 - 50\n",
        "\n",
        "batch_size = 8 # размер мини-батча\n",
        "X = torch.empty(batch_size, 3).normal_(mean=-1.0, std=4.0).to(device)\n",
        "predict = (X.to(device).mv(W.to(device)) + bias.to(device)).sigmoid()"
      ],
      "metadata": {
        "id": "YQZ4CZXlNa7s"
      },
      "execution_count": null,
      "outputs": []
    },
    {
      "cell_type": "markdown",
      "source": [
        "# 1.11 Персептрон - возможности классификации образов"
      ],
      "metadata": {
        "id": "dXUyoL9NFK2C"
      }
    },
    {
      "cell_type": "code",
      "source": [
        "import torch\n",
        "\n",
        "# тензор X в программе не менять\n",
        "batch_size = 32 # количество входных данных\n",
        "X = torch.tensor(list(map(float, input().split())), dtype=torch.float32).view(batch_size, 2)\n",
        "\n",
        "def line_coeff(x0, y0, x1, y1):\n",
        "    w1 = y1 - y0\n",
        "    w2 = -(x1 - x0)\n",
        "    w0 = x1 * y0 - x0 * y1\n",
        "    return -w0, -w1, -w2\n",
        "\n",
        "\n",
        "def activate(x):\n",
        "    return torch.sign(x)\n",
        "\n",
        "\n",
        "w10, w11, w12 = line_coeff(-4, -6, -5, -3)\n",
        "w20, w21, w22 = line_coeff(-5, -3, 1, 5)\n",
        "w30, w31, w32 = line_coeff(1, 5, 10, 9)\n",
        "w0, w1, w2, w3 = 2.5, 1, 1, 1\n",
        "\n",
        "\n",
        "W1 = torch.tensor([(w11, w12), (w21, w22), (w31, w32)], dtype=torch.float32)\n",
        "bias1 = torch.tensor([w10, w20, w30], dtype=torch.float32)\n",
        "W2 = torch.tensor([w1, w2, w3], dtype=torch.float32)\n",
        "bias2 = torch.tensor([w0], dtype=torch.float32)\n",
        "\n",
        "\n",
        "X1_out = activate(X @ W1.permute(1, 0) + bias1)\n",
        "predict = activate(X1_out @ W2 + bias2)"
      ],
      "metadata": {
        "colab": {
          "base_uri": "https://localhost:8080/",
          "height": 370
        },
        "id": "g2PMadQHFQiV",
        "outputId": "2a6c32fa-d90f-4523-a3f7-07ac2c44ba10",
        "collapsed": true
      },
      "execution_count": null,
      "outputs": [
        {
          "output_type": "error",
          "ename": "KeyboardInterrupt",
          "evalue": "Interrupted by user",
          "traceback": [
            "\u001b[0;31m---------------------------------------------------------------------------\u001b[0m",
            "\u001b[0;31mKeyboardInterrupt\u001b[0m                         Traceback (most recent call last)",
            "\u001b[0;32m<ipython-input-1-3b44b34b1e1b>\u001b[0m in \u001b[0;36m<cell line: 0>\u001b[0;34m()\u001b[0m\n\u001b[1;32m      3\u001b[0m \u001b[0;31m# тензор X в программе не менять\u001b[0m\u001b[0;34m\u001b[0m\u001b[0;34m\u001b[0m\u001b[0m\n\u001b[1;32m      4\u001b[0m \u001b[0mbatch_size\u001b[0m \u001b[0;34m=\u001b[0m \u001b[0;36m32\u001b[0m \u001b[0;31m# количество входных данных\u001b[0m\u001b[0;34m\u001b[0m\u001b[0;34m\u001b[0m\u001b[0m\n\u001b[0;32m----> 5\u001b[0;31m \u001b[0mX\u001b[0m \u001b[0;34m=\u001b[0m \u001b[0mtorch\u001b[0m\u001b[0;34m.\u001b[0m\u001b[0mtensor\u001b[0m\u001b[0;34m(\u001b[0m\u001b[0mlist\u001b[0m\u001b[0;34m(\u001b[0m\u001b[0mmap\u001b[0m\u001b[0;34m(\u001b[0m\u001b[0mfloat\u001b[0m\u001b[0;34m,\u001b[0m \u001b[0minput\u001b[0m\u001b[0;34m(\u001b[0m\u001b[0;34m)\u001b[0m\u001b[0;34m.\u001b[0m\u001b[0msplit\u001b[0m\u001b[0;34m(\u001b[0m\u001b[0;34m)\u001b[0m\u001b[0;34m)\u001b[0m\u001b[0;34m)\u001b[0m\u001b[0;34m,\u001b[0m \u001b[0mdtype\u001b[0m\u001b[0;34m=\u001b[0m\u001b[0mtorch\u001b[0m\u001b[0;34m.\u001b[0m\u001b[0mfloat32\u001b[0m\u001b[0;34m)\u001b[0m\u001b[0;34m.\u001b[0m\u001b[0mview\u001b[0m\u001b[0;34m(\u001b[0m\u001b[0mbatch_size\u001b[0m\u001b[0;34m,\u001b[0m \u001b[0;36m2\u001b[0m\u001b[0;34m)\u001b[0m\u001b[0;34m\u001b[0m\u001b[0;34m\u001b[0m\u001b[0m\n\u001b[0m\u001b[1;32m      6\u001b[0m \u001b[0;34m\u001b[0m\u001b[0m\n\u001b[1;32m      7\u001b[0m \u001b[0;32mdef\u001b[0m \u001b[0mline_coeff\u001b[0m\u001b[0;34m(\u001b[0m\u001b[0mx0\u001b[0m\u001b[0;34m,\u001b[0m \u001b[0my0\u001b[0m\u001b[0;34m,\u001b[0m \u001b[0mx1\u001b[0m\u001b[0;34m,\u001b[0m \u001b[0my1\u001b[0m\u001b[0;34m)\u001b[0m\u001b[0;34m:\u001b[0m\u001b[0;34m\u001b[0m\u001b[0;34m\u001b[0m\u001b[0m\n",
            "\u001b[0;32m/usr/local/lib/python3.11/dist-packages/ipykernel/kernelbase.py\u001b[0m in \u001b[0;36mraw_input\u001b[0;34m(self, prompt)\u001b[0m\n\u001b[1;32m   1175\u001b[0m                 \u001b[0;34m\"raw_input was called, but this frontend does not support input requests.\"\u001b[0m\u001b[0;34m\u001b[0m\u001b[0;34m\u001b[0m\u001b[0m\n\u001b[1;32m   1176\u001b[0m             )\n\u001b[0;32m-> 1177\u001b[0;31m         return self._input_request(\n\u001b[0m\u001b[1;32m   1178\u001b[0m             \u001b[0mstr\u001b[0m\u001b[0;34m(\u001b[0m\u001b[0mprompt\u001b[0m\u001b[0;34m)\u001b[0m\u001b[0;34m,\u001b[0m\u001b[0;34m\u001b[0m\u001b[0;34m\u001b[0m\u001b[0m\n\u001b[1;32m   1179\u001b[0m             \u001b[0mself\u001b[0m\u001b[0;34m.\u001b[0m\u001b[0m_parent_ident\u001b[0m\u001b[0;34m[\u001b[0m\u001b[0;34m\"shell\"\u001b[0m\u001b[0;34m]\u001b[0m\u001b[0;34m,\u001b[0m\u001b[0;34m\u001b[0m\u001b[0;34m\u001b[0m\u001b[0m\n",
            "\u001b[0;32m/usr/local/lib/python3.11/dist-packages/ipykernel/kernelbase.py\u001b[0m in \u001b[0;36m_input_request\u001b[0;34m(self, prompt, ident, parent, password)\u001b[0m\n\u001b[1;32m   1217\u001b[0m             \u001b[0;32mexcept\u001b[0m \u001b[0mKeyboardInterrupt\u001b[0m\u001b[0;34m:\u001b[0m\u001b[0;34m\u001b[0m\u001b[0;34m\u001b[0m\u001b[0m\n\u001b[1;32m   1218\u001b[0m                 \u001b[0;31m# re-raise KeyboardInterrupt, to truncate traceback\u001b[0m\u001b[0;34m\u001b[0m\u001b[0;34m\u001b[0m\u001b[0m\n\u001b[0;32m-> 1219\u001b[0;31m                 \u001b[0;32mraise\u001b[0m \u001b[0mKeyboardInterrupt\u001b[0m\u001b[0;34m(\u001b[0m\u001b[0;34m\"Interrupted by user\"\u001b[0m\u001b[0;34m)\u001b[0m \u001b[0;32mfrom\u001b[0m \u001b[0;32mNone\u001b[0m\u001b[0;34m\u001b[0m\u001b[0;34m\u001b[0m\u001b[0m\n\u001b[0m\u001b[1;32m   1220\u001b[0m             \u001b[0;32mexcept\u001b[0m \u001b[0mException\u001b[0m\u001b[0;34m:\u001b[0m\u001b[0;34m\u001b[0m\u001b[0;34m\u001b[0m\u001b[0m\n\u001b[1;32m   1221\u001b[0m                 \u001b[0mself\u001b[0m\u001b[0;34m.\u001b[0m\u001b[0mlog\u001b[0m\u001b[0;34m.\u001b[0m\u001b[0mwarning\u001b[0m\u001b[0;34m(\u001b[0m\u001b[0;34m\"Invalid Message:\"\u001b[0m\u001b[0;34m,\u001b[0m \u001b[0mexc_info\u001b[0m\u001b[0;34m=\u001b[0m\u001b[0;32mTrue\u001b[0m\u001b[0;34m)\u001b[0m\u001b[0;34m\u001b[0m\u001b[0;34m\u001b[0m\u001b[0m\n",
            "\u001b[0;31mKeyboardInterrupt\u001b[0m: Interrupted by user"
          ]
        }
      ]
    },
    {
      "cell_type": "code",
      "source": [
        "import torch\n",
        "\n",
        "\n",
        "# тензор X в программе не менять\n",
        "batch_size = 32 # количество входных данных\n",
        "X = torch.tensor(list(map(float, input().split())), dtype=torch.float32).view(batch_size, 2)\n",
        "\n",
        "W1 = torch.tensor([[-1.8,  1.0],\n",
        "                   [-0.75,  1.0]])\n",
        "bias1 = torch.tensor([-2.4, -4.5])\n",
        "# Веса выходного слоя сделаем равные (равный вклад двух нейронов скрытого слоя)\n",
        "W2 = torch.tensor([1.0, 1.0])\n",
        "# Если оба выхода скрытого слоя нулевые, нужно сместить их сумму ниже нуля\n",
        "bias2 = torch.tensor([0.5])\n",
        "\n",
        "# Функция активации общая для всех трёх нейронов\n",
        "act = lambda z: torch.where(z > 0.0, torch.ones_like(z), -torch.ones_like(z))\n",
        "\n",
        "# Находим выход скрытого слоя\n",
        "h = act(X @ W1.t() + bias1)\n",
        "\n",
        "# Находим выход выходного слоя\n",
        "predict = act(h @ W2 + bias2)\n",
        "# predict\n"
      ],
      "metadata": {
        "id": "VXuY4kjA9Yvd"
      },
      "execution_count": null,
      "outputs": []
    },
    {
      "cell_type": "markdown",
      "source": [
        "# 2.1 Идея обучения НС градиентным алгоритмом"
      ],
      "metadata": {
        "id": "Z9PWutBNBbfd"
      }
    },
    {
      "cell_type": "markdown",
      "source": [
        "Task 1"
      ],
      "metadata": {
        "id": "odUpF5OPz6gv"
      }
    },
    {
      "cell_type": "code",
      "source": [
        "def func(x):\n",
        "    return 0.5 * x + 0.2 * x ** 2 - 0.1 * x ** 3\n",
        "\n",
        "\n",
        "def df(x):\n",
        "    return 0.5 + 0.4 * x - 0.3 * x ** 2\n",
        "\n",
        "\n",
        "# здесь продолжайте программу\n",
        "n = 0.01\n",
        "x0 = -4\n",
        "N = 200\n",
        "x = x0\n",
        "\n",
        "for i in range(N):\n",
        "    dif = df(x)\n",
        "    x = x - n * dif"
      ],
      "metadata": {
        "id": "PoK-0DLIqiQ0"
      },
      "execution_count": null,
      "outputs": []
    },
    {
      "cell_type": "markdown",
      "source": [
        "Task 2"
      ],
      "metadata": {
        "id": "mIdSzGBOz_is"
      }
    },
    {
      "cell_type": "code",
      "source": [
        "import torch\n",
        "\n",
        "# Целевая функция\n",
        "def func(x):\n",
        "    return 0.1 * x**2 - torch.sin(x) + 5.\n",
        "\n",
        "# Данные\n",
        "coord_x = torch.arange(-5.0, 5.0, 0.1)\n",
        "coord_y = func(coord_x).view(-1, 1)  # [N, 1]\n",
        "\n",
        "# Подготовка признаков: [1, x, x^2, x^3]\n",
        "X = torch.stack([torch.ones_like(coord_x), coord_x, coord_x**2, coord_x**3], dim=1)  # [N, 4]\n",
        "\n",
        "# Начальные параметры\n",
        "w = torch.zeros((4, 1), dtype=torch.float32)  # [4, 1]\n",
        "eta = torch.tensor([0.1, 0.01, 0.001, 0.0001]).view(4, 1)  # [4, 1]\n",
        "N = 200\n",
        "sz = coord_x.size(0)\n",
        "\n",
        "# Градиентный спуск\n",
        "for i in range(N):\n",
        "    y_pred = X @ w  # [N, 1]\n",
        "    error = y_pred - coord_y  # [N, 1]\n",
        "    grad = (2 / sz) * (X.T @ error)  # [4, 1]\n",
        "    w = w - eta * grad  # Поэлементное обновление\n",
        "\n",
        "# Итоговая ошибка\n",
        "y_pred = X @ w\n",
        "Q = torch.mean((y_pred - coord_y)**2).item()"
      ],
      "metadata": {
        "id": "QsW0gAhtqlkH"
      },
      "execution_count": null,
      "outputs": []
    },
    {
      "cell_type": "markdown",
      "source": [
        "# 2.3 Функции активации и потерь в PyTorch"
      ],
      "metadata": {
        "id": "6lo-TC3_eJzf"
      }
    },
    {
      "cell_type": "markdown",
      "source": [
        "Task 1"
      ],
      "metadata": {
        "id": "qqUctMUveOnx"
      }
    },
    {
      "cell_type": "code",
      "source": [
        "import torch\n",
        "\n",
        "# значения x, func, predict не менять\n",
        "x = torch.arange(-3, 3, 0.1)\n",
        "func = x ** 2 - 2 * torch.cos(x) - 5\n",
        "predict = func + torch.empty_like(func).normal_(0, 0.5)\n",
        "\n",
        "loss_func = torch.nn.MSELoss()\n",
        "Q = loss_func(predict, func).float().item()\n",
        "\n",
        "Q_mse = torch.sum((predict - func)**2) / len(predict)\n",
        "Q_mse = Q_mse.float().item()"
      ],
      "metadata": {
        "id": "efu_CaSg5iuy"
      },
      "execution_count": 1,
      "outputs": []
    },
    {
      "cell_type": "markdown",
      "source": [
        "Task 2"
      ],
      "metadata": {
        "id": "zBjU3NjUojLr"
      }
    },
    {
      "cell_type": "code",
      "source": [
        "import torch\n",
        "\n",
        "# значения predict, target не менять\n",
        "batch_size = 8\n",
        "target = torch.randint(0, 2, (batch_size, 1), dtype=torch.float32) # целевые значения\n",
        "predict = torch.empty(batch_size, 1).normal_(0, 2.0) # прогнозные значения\n",
        "\n",
        "loss_func = torch.nn.BCEWithLogitsLoss()\n",
        "Q = loss_func(predict, target).float().item()\n",
        "sig_preds = torch.sigmoid(predict)\n",
        "eps = 1e-7  # защита от log(0)\n",
        "Q_bce = -torch.sum(target * torch.log(sig_preds + eps) + (1 - target) * torch.log(1 - sig_preds) + eps) / batch_size\n",
        "Q_bce = Q_bce.float().item()\n",
        "print(Q_bce, Q)"
      ],
      "metadata": {
        "colab": {
          "base_uri": "https://localhost:8080/"
        },
        "id": "Gnw6RphZfKvy",
        "outputId": "8dd6f5cf-5dcc-488e-bbf8-92666a3ab351"
      },
      "execution_count": 57,
      "outputs": [
        {
          "output_type": "stream",
          "name": "stdout",
          "text": [
            "0.9961713552474976 0.9961714744567871\n"
          ]
        }
      ]
    },
    {
      "cell_type": "markdown",
      "source": [
        "# 2.4 Автоматическое дифференцирование"
      ],
      "metadata": {
        "id": "y9_l0pc8N4lc"
      }
    },
    {
      "cell_type": "markdown",
      "source": [
        "Task 1"
      ],
      "metadata": {
        "id": "RxF8C0h-N-8Z"
      }
    },
    {
      "cell_type": "code",
      "source": [],
      "metadata": {
        "id": "jsWDgwCjJ4ow"
      },
      "execution_count": null,
      "outputs": []
    }
  ]
}
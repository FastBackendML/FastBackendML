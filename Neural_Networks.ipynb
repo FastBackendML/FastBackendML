{
  "nbformat": 4,
  "nbformat_minor": 0,
  "metadata": {
    "colab": {
      "provenance": [],
      "authorship_tag": "ABX9TyOc3itLj8XxZ72CuHTI6hUW",
      "include_colab_link": true
    },
    "kernelspec": {
      "name": "python3",
      "display_name": "Python 3"
    },
    "language_info": {
      "name": "python"
    }
  },
  "cells": [
    {
      "cell_type": "markdown",
      "metadata": {
        "id": "view-in-github",
        "colab_type": "text"
      },
      "source": [
        "<a href=\"https://colab.research.google.com/github/FastBackendML/FastBackendML/blob/main/Neural_Networks.ipynb\" target=\"_parent\"><img src=\"https://colab.research.google.com/assets/colab-badge.svg\" alt=\"Open In Colab\"/></a>"
      ]
    },
    {
      "cell_type": "markdown",
      "source": [
        "#1.10 Использование CPU и GPU на примере простой НС"
      ],
      "metadata": {
        "id": "SMqb4Tzb5qQl"
      }
    },
    {
      "cell_type": "code",
      "source": [
        "import torch"
      ],
      "metadata": {
        "id": "RFQDfawm5r2r"
      },
      "execution_count": null,
      "outputs": []
    },
    {
      "cell_type": "code",
      "source": [
        "torch.cuda.is_available()"
      ],
      "metadata": {
        "colab": {
          "base_uri": "https://localhost:8080/"
        },
        "id": "c8n1ptGH54og",
        "outputId": "99fd76ff-d7d9-4a47-ed03-16b1e613bec9"
      },
      "execution_count": null,
      "outputs": [
        {
          "output_type": "execute_result",
          "data": {
            "text/plain": [
              "False"
            ]
          },
          "metadata": {},
          "execution_count": 4
        }
      ]
    },
    {
      "cell_type": "code",
      "source": [
        "device = torch.device('cuda' if torch.cuda.is_available() else 'cpu')\n",
        "t1 = torch.arange(1,6, dtype=torch.int32, device=device)\n",
        "t2 = torch.ones(15, dtype=torch.float32, device=device).view(3,5)\n",
        "t_res = t2.matmul(t1.float()).to(device='cpu')"
      ],
      "metadata": {
        "id": "iI8h0ORDHJoM"
      },
      "execution_count": null,
      "outputs": []
    },
    {
      "cell_type": "code",
      "source": [
        "t_res"
      ],
      "metadata": {
        "colab": {
          "base_uri": "https://localhost:8080/"
        },
        "id": "g9NwZDzFHLPv",
        "outputId": "0e90d59a-fdc2-4b0d-8be7-c29bba6b8622"
      },
      "execution_count": null,
      "outputs": [
        {
          "output_type": "execute_result",
          "data": {
            "text/plain": [
              "tensor([15., 15., 15.])"
            ]
          },
          "metadata": {},
          "execution_count": 24
        }
      ]
    },
    {
      "cell_type": "markdown",
      "source": [
        "Task 2"
      ],
      "metadata": {
        "id": "4Az6bvbQIOQi"
      }
    },
    {
      "cell_type": "code",
      "source": [
        "device = torch.device(\"cuda\" if torch.cuda.is_available() else \"cpu\")"
      ],
      "metadata": {
        "id": "uNcp6ojOIRvv"
      },
      "execution_count": null,
      "outputs": []
    },
    {
      "cell_type": "code",
      "source": [
        "targets = torch.rand(1000).to(device)\n",
        "predict = torch.rand(1000).to(device)"
      ],
      "metadata": {
        "id": "qlHM-8wZIhzL"
      },
      "execution_count": null,
      "outputs": []
    },
    {
      "cell_type": "code",
      "source": [
        "Q = torch.sum(torch.pow((targets - predict), 2)) / 1000"
      ],
      "metadata": {
        "id": "qIXmg5tbInIO"
      },
      "execution_count": null,
      "outputs": []
    },
    {
      "cell_type": "code",
      "source": [
        "Q = Q.to('cpu')"
      ],
      "metadata": {
        "id": "eWtFaaqNJLgi"
      },
      "execution_count": null,
      "outputs": []
    },
    {
      "cell_type": "code",
      "source": [
        "Q"
      ],
      "metadata": {
        "colab": {
          "base_uri": "https://localhost:8080/"
        },
        "id": "wFoUv_VMJbQG",
        "outputId": "145a2363-bc98-4bbb-c02f-84fc8e69dd17"
      },
      "execution_count": null,
      "outputs": [
        {
          "output_type": "execute_result",
          "data": {
            "text/plain": [
              "tensor(169.7121)"
            ]
          },
          "metadata": {},
          "execution_count": 30
        }
      ]
    },
    {
      "cell_type": "markdown",
      "source": [
        "Task 3"
      ],
      "metadata": {
        "id": "c3h-_3SmKXs6"
      }
    },
    {
      "cell_type": "code",
      "source": [
        "device = torch.device(\"cuda\" if torch.cuda.is_available() else \"cpu\")\n",
        "\n",
        "w = torch.rand(1, 16).to(device) # вектор-строка\n",
        "X = torch.rand(16, 16).to(device) # матрица 16 x 16\n",
        "I = torch.eye(16).to(device) # единичная матрица 16 x 16\n",
        "lm = 0.5 # значение лямбда"
      ],
      "metadata": {
        "id": "ALJ8qMu9Jovx"
      },
      "execution_count": null,
      "outputs": []
    },
    {
      "cell_type": "code",
      "source": [
        "Q = w.matmul((X.add(I.mul(lm)))).matmul(w.transpose(0,1))"
      ],
      "metadata": {
        "id": "_WUz_7DcLtKt"
      },
      "execution_count": null,
      "outputs": []
    },
    {
      "cell_type": "code",
      "source": [
        "Q.to('cpu')"
      ],
      "metadata": {
        "colab": {
          "base_uri": "https://localhost:8080/"
        },
        "id": "LZkhGaFRNXC9",
        "outputId": "65329988-bbd5-4f9a-8f87-a8f0db0dbac1"
      },
      "execution_count": null,
      "outputs": [
        {
          "output_type": "execute_result",
          "data": {
            "text/plain": [
              "tensor([[27.8480]])"
            ]
          },
          "metadata": {},
          "execution_count": 33
        }
      ]
    },
    {
      "cell_type": "markdown",
      "source": [
        "Task 4"
      ],
      "metadata": {
        "id": "jbQSBwo9OZr-"
      }
    },
    {
      "cell_type": "code",
      "source": [
        "import torch\n",
        "# все эти переменные в программе не менять, только тензоры разместить на device\n",
        "device = torch.device(\"cuda\" if torch.cuda.is_available() else \"cpu\")\n",
        "\n",
        "W = torch.rand(3) * 10 - 5\n",
        "bias = torch.rand(1) * 100 - 50\n",
        "\n",
        "batch_size = 8 # размер мини-батча\n",
        "X = torch.empty(batch_size, 3).normal_(mean=-1.0, std=4.0).to(device)\n",
        "predict = (X.to(device).mv(W.to(device)) + bias.to(device)).sigmoid()"
      ],
      "metadata": {
        "id": "YQZ4CZXlNa7s"
      },
      "execution_count": null,
      "outputs": []
    },
    {
      "cell_type": "markdown",
      "source": [
        "# 1.11 Персептрон - возможности классификации образов"
      ],
      "metadata": {
        "id": "dXUyoL9NFK2C"
      }
    },
    {
      "cell_type": "code",
      "source": [
        "import torch\n",
        "\n",
        "# тензор X в программе не менять\n",
        "batch_size = 32 # количество входных данных\n",
        "X = torch.tensor(list(map(float, input().split())), dtype=torch.float32).view(batch_size, 2)\n",
        "\n",
        "def line_coeff(x0, y0, x1, y1):\n",
        "    w1 = y1 - y0\n",
        "    w2 = -(x1 - x0)\n",
        "    w0 = x1 * y0 - x0 * y1\n",
        "    return -w0, -w1, -w2\n",
        "\n",
        "\n",
        "def activate(x):\n",
        "    return torch.sign(x)\n",
        "\n",
        "\n",
        "w10, w11, w12 = line_coeff(-4, -6, -5, -3)\n",
        "w20, w21, w22 = line_coeff(-5, -3, 1, 5)\n",
        "w30, w31, w32 = line_coeff(1, 5, 10, 9)\n",
        "w0, w1, w2, w3 = 2.5, 1, 1, 1\n",
        "\n",
        "\n",
        "W1 = torch.tensor([(w11, w12), (w21, w22), (w31, w32)], dtype=torch.float32)\n",
        "bias1 = torch.tensor([w10, w20, w30], dtype=torch.float32)\n",
        "W2 = torch.tensor([w1, w2, w3], dtype=torch.float32)\n",
        "bias2 = torch.tensor([w0], dtype=torch.float32)\n",
        "\n",
        "\n",
        "X1_out = activate(X @ W1.permute(1, 0) + bias1)\n",
        "predict = activate(X1_out @ W2 + bias2)"
      ],
      "metadata": {
        "id": "g2PMadQHFQiV"
      },
      "execution_count": null,
      "outputs": []
    },
    {
      "cell_type": "code",
      "source": [
        "import torch\n",
        "\n",
        "\n",
        "# тензор X в программе не менять\n",
        "batch_size = 32 # количество входных данных\n",
        "X = torch.tensor(list(map(float, input().split())), dtype=torch.float32).view(batch_size, 2)\n",
        "\n",
        "W1 = torch.tensor([[-1.8,  1.0],\n",
        "                   [-0.75,  1.0]])\n",
        "bias1 = torch.tensor([-2.4, -4.5])\n",
        "# Веса выходного слоя сделаем равные (равный вклад двух нейронов скрытого слоя)\n",
        "W2 = torch.tensor([1.0, 1.0])\n",
        "# Если оба выхода скрытого слоя нулевые, нужно сместить их сумму ниже нуля\n",
        "bias2 = torch.tensor([0.5])\n",
        "\n",
        "# Функция активации общая для всех трёх нейронов\n",
        "act = lambda z: torch.where(z > 0.0, torch.ones_like(z), -torch.ones_like(z))\n",
        "\n",
        "# Находим выход скрытого слоя\n",
        "h = act(X @ W1.t() + bias1)\n",
        "\n",
        "# Находим выход выходного слоя\n",
        "predict = act(h @ W2 + bias2)\n",
        "# predict\n"
      ],
      "metadata": {
        "id": "VXuY4kjA9Yvd"
      },
      "execution_count": null,
      "outputs": []
    },
    {
      "cell_type": "markdown",
      "source": [
        "# 2.1 Идея обучения НС градиентным алгоритмом"
      ],
      "metadata": {
        "id": "Z9PWutBNBbfd"
      }
    },
    {
      "cell_type": "markdown",
      "source": [
        "Task 1"
      ],
      "metadata": {
        "id": "odUpF5OPz6gv"
      }
    },
    {
      "cell_type": "code",
      "source": [
        "def func(x):\n",
        "    return 0.5 * x + 0.2 * x ** 2 - 0.1 * x ** 3\n",
        "\n",
        "\n",
        "def df(x):\n",
        "    return 0.5 + 0.4 * x - 0.3 * x ** 2\n",
        "\n",
        "\n",
        "# здесь продолжайте программу\n",
        "n = 0.01\n",
        "x0 = -4\n",
        "N = 200\n",
        "x = x0\n",
        "\n",
        "for i in range(N):\n",
        "    dif = df(x)\n",
        "    x = x - n * dif"
      ],
      "metadata": {
        "id": "PoK-0DLIqiQ0"
      },
      "execution_count": null,
      "outputs": []
    },
    {
      "cell_type": "markdown",
      "source": [
        "Task 2"
      ],
      "metadata": {
        "id": "mIdSzGBOz_is"
      }
    },
    {
      "cell_type": "code",
      "source": [
        "import torch\n",
        "\n",
        "# Целевая функция\n",
        "def func(x):\n",
        "    return 0.1 * x**2 - torch.sin(x) + 5.\n",
        "\n",
        "# Данные\n",
        "coord_x = torch.arange(-5.0, 5.0, 0.1)\n",
        "coord_y = func(coord_x).view(-1, 1)  # [N, 1]\n",
        "\n",
        "# Подготовка признаков: [1, x, x^2, x^3]\n",
        "X = torch.stack([torch.ones_like(coord_x), coord_x, coord_x**2, coord_x**3], dim=1)  # [N, 4]\n",
        "\n",
        "# Начальные параметры\n",
        "w = torch.zeros((4, 1), dtype=torch.float32)  # [4, 1]\n",
        "eta = torch.tensor([0.1, 0.01, 0.001, 0.0001]).view(4, 1)  # [4, 1]\n",
        "N = 200\n",
        "sz = coord_x.size(0)\n",
        "\n",
        "# Градиентный спуск\n",
        "for i in range(N):\n",
        "    y_pred = X @ w  # [N, 1]\n",
        "    error = y_pred - coord_y  # [N, 1]\n",
        "    grad = (2 / sz) * (X.T @ error)  # [4, 1]\n",
        "    w = w - eta * grad  # Поэлементное обновление\n",
        "\n",
        "# Итоговая ошибка\n",
        "y_pred = X @ w\n",
        "Q = torch.mean((y_pred - coord_y)**2).item()"
      ],
      "metadata": {
        "id": "QsW0gAhtqlkH"
      },
      "execution_count": null,
      "outputs": []
    },
    {
      "cell_type": "markdown",
      "source": [
        "# 2.3 Функции активации и потерь в PyTorch"
      ],
      "metadata": {
        "id": "6lo-TC3_eJzf"
      }
    },
    {
      "cell_type": "markdown",
      "source": [
        "Task 1"
      ],
      "metadata": {
        "id": "qqUctMUveOnx"
      }
    },
    {
      "cell_type": "code",
      "source": [
        "import torch\n",
        "\n",
        "# значения x, func, predict не менять\n",
        "x = torch.arange(-3, 3, 0.1)\n",
        "func = x ** 2 - 2 * torch.cos(x) - 5\n",
        "predict = func + torch.empty_like(func).normal_(0, 0.5)\n",
        "\n",
        "loss_func = torch.nn.MSELoss()\n",
        "Q = loss_func(predict, func).float().item()\n",
        "\n",
        "Q_mse = torch.sum((predict - func)**2) / len(predict)\n",
        "Q_mse = Q_mse.float().item()"
      ],
      "metadata": {
        "id": "efu_CaSg5iuy"
      },
      "execution_count": null,
      "outputs": []
    },
    {
      "cell_type": "markdown",
      "source": [
        "Task 2"
      ],
      "metadata": {
        "id": "zBjU3NjUojLr"
      }
    },
    {
      "cell_type": "code",
      "source": [
        "import torch\n",
        "\n",
        "# значения predict, target не менять\n",
        "batch_size = 8\n",
        "target = torch.randint(0, 2, (batch_size, 1), dtype=torch.float32) # целевые значения\n",
        "predict = torch.empty(batch_size, 1).normal_(0, 2.0) # прогнозные значения\n",
        "\n",
        "loss_func = torch.nn.BCEWithLogitsLoss()\n",
        "Q = loss_func(predict, target).float().item()\n",
        "sig_preds = torch.sigmoid(predict)\n",
        "eps = 1e-7  # защита от log(0)\n",
        "Q_bce = -torch.sum(target * torch.log(sig_preds + eps) + (1 - target) * torch.log(1 - sig_preds) + eps) / batch_size\n",
        "Q_bce = Q_bce.float().item()\n",
        "print(Q_bce, Q)"
      ],
      "metadata": {
        "colab": {
          "base_uri": "https://localhost:8080/"
        },
        "id": "Gnw6RphZfKvy",
        "outputId": "8dd6f5cf-5dcc-488e-bbf8-92666a3ab351"
      },
      "execution_count": null,
      "outputs": [
        {
          "output_type": "stream",
          "name": "stdout",
          "text": [
            "0.9961713552474976 0.9961714744567871\n"
          ]
        }
      ]
    },
    {
      "cell_type": "markdown",
      "source": [
        "# 2.4 Автоматическое дифференцирование"
      ],
      "metadata": {
        "id": "y9_l0pc8N4lc"
      }
    },
    {
      "cell_type": "markdown",
      "source": [
        "Task 1"
      ],
      "metadata": {
        "id": "RxF8C0h-N-8Z"
      }
    },
    {
      "cell_type": "code",
      "source": [
        "import torch\n",
        "\n",
        "d = float(input()) # значение d в программе не менять\n",
        "t = torch.tensor([d], requires_grad=True)\n",
        "f = 3 * t**2 + 5 * t - 2\n",
        "f.backward()\n",
        "print(f)\n",
        "print(t.data, t.grad)"
      ],
      "metadata": {
        "id": "jsWDgwCjJ4ow",
        "colab": {
          "base_uri": "https://localhost:8080/"
        },
        "outputId": "37ccfd34-8ce5-42f7-f36d-b00192f9ad0e"
      },
      "execution_count": null,
      "outputs": [
        {
          "output_type": "stream",
          "name": "stdout",
          "text": [
            "50\n",
            "tensor([7748.], grad_fn=<SubBackward0>)\n",
            "tensor([50.]) tensor([305.])\n"
          ]
        }
      ]
    },
    {
      "cell_type": "markdown",
      "source": [
        "Task 2"
      ],
      "metadata": {
        "id": "2fP8zzuZdP3k"
      }
    },
    {
      "cell_type": "code",
      "source": [
        "import torch\n",
        "\n",
        "g = float(input()) # значение g в программе не менять\n",
        "d = float(input()) # значение d в программе не менять\n",
        "\n",
        "t = torch.tensor([d], requires_grad=True)\n",
        "\n",
        "f = -(g * t**2) / 2 + g * torch.exp(-t) + 1.5\n",
        "\n",
        "f.backward()\n",
        "\n",
        "print(t.data, t.grad)\n",
        "print(f)"
      ],
      "metadata": {
        "colab": {
          "base_uri": "https://localhost:8080/"
        },
        "id": "bSPs2tNsWyT_",
        "outputId": "71716511-4277-4a2e-c8bd-a247c8f9956b"
      },
      "execution_count": null,
      "outputs": [
        {
          "output_type": "stream",
          "name": "stdout",
          "text": [
            "50\n",
            "30\n",
            "tensor([30.]) tensor([-1500.])\n",
            "tensor([-22498.5000], grad_fn=<AddBackward0>)\n"
          ]
        }
      ]
    },
    {
      "cell_type": "markdown",
      "source": [
        "Task 3"
      ],
      "metadata": {
        "id": "PIDRU-PXttDh"
      }
    },
    {
      "cell_type": "code",
      "source": [
        "import torch\n",
        "\n",
        "xx = float(input()) # значение xx в программе не менять\n",
        "x = torch.tensor(xx, dtype=torch.float32)\n",
        "\n",
        "x0, x1, x2, x3 = map(float, input().split()) # переменные x0, x1, x2, x3 в программе не менять\n",
        "\n",
        "w0 = torch.tensor(x0, dtype=torch.float32, requires_grad=True)\n",
        "w1 = torch.tensor(x1, dtype=torch.float32, requires_grad=True)\n",
        "w2 = torch.tensor(x2, dtype=torch.float32, requires_grad=True)\n",
        "w3 = torch.tensor(x3, dtype=torch.float32, requires_grad=True)\n",
        "\n",
        "a = w0 + w1 * x + w2 * x**2 + w3 * x**3\n",
        "f = 0.5 * x**2 - 2 * x - 5\n",
        "L = (a - f)**2\n",
        "L.backward()"
      ],
      "metadata": {
        "id": "yUDUjFLnrj3V"
      },
      "execution_count": null,
      "outputs": []
    },
    {
      "cell_type": "markdown",
      "source": [
        "# 2.5 Оптимизаторы. Реализация SGD на PyTorch"
      ],
      "metadata": {
        "id": "eXWaR03iNWAn"
      }
    },
    {
      "cell_type": "markdown",
      "source": [
        "Task 1"
      ],
      "metadata": {
        "id": "ijwu51jfNai7"
      }
    },
    {
      "cell_type": "code",
      "source": [
        "import torch\n",
        "\n",
        "def func(x):\n",
        "    return 0.2 * (x - 2) ** 2 - 0.3 * torch.cos(4 * x)\n",
        "\n",
        "\n",
        "x0 = 0.0 # начальное значение точки минимума\n",
        "lr = 0.1 # шаг обучения\n",
        "N = 200 # число итераций градиентного алгоритма\n",
        "x = torch.tensor([x0], dtype=torch.float32, requires_grad=True)\n",
        "\n",
        "for i in range(N):\n",
        "  y = func(x)\n",
        "  y.backward()\n",
        "  x.data = x.data - lr * x.grad\n",
        "  x.grad.zero_()\n"
      ],
      "metadata": {
        "id": "YXxfGwpWNXUF"
      },
      "execution_count": null,
      "outputs": []
    },
    {
      "cell_type": "markdown",
      "source": [
        "Task 2"
      ],
      "metadata": {
        "id": "QCV9KaKwmubG"
      }
    },
    {
      "cell_type": "code",
      "source": [
        "import torch\n",
        "import torch.optim as optim\n",
        "\n",
        "def func(x):\n",
        "    return 0.2 * (x - 2) ** 2 - 0.3 * torch.cos(4 * x)\n",
        "\n",
        "\n",
        "lr = 0.1 # шаг обучения\n",
        "x0 = 0.0 # начальное значение точки минимума\n",
        "N = 200 # число итераций градиентного алгоритма\n",
        "x = torch.tensor([x0], requires_grad=True)\n",
        "optimizer = optim.RMSprop(params=[x], lr=lr)\n",
        "\n",
        "for _ in range(N):\n",
        "  y = func(x)\n",
        "  y.backward()\n",
        "  optimizer.step()\n",
        "  optimizer.zero_grad()"
      ],
      "metadata": {
        "id": "coJr32EXYzK_"
      },
      "execution_count": null,
      "outputs": []
    },
    {
      "cell_type": "markdown",
      "source": [
        "Task 3"
      ],
      "metadata": {
        "id": "aU9eskFffBem"
      }
    },
    {
      "cell_type": "code",
      "source": [
        "import numpy as np\n",
        "import torch\n",
        "import torch.optim as optim\n",
        "\n",
        "x_train = torch.tensor([(5.8, 1.2), (5.6, 1.5), (6.5, 1.5), (6.1, 1.3), (6.4, 1.3), (7.7, 2.0), (6.0, 1.8), (5.6, 1.3), (6.0, 1.6), (5.8, 1.9), (5.7, 2.0), (6.3, 1.5), (6.2, 1.8), (7.7, 2.3), (5.8, 1.2), (6.3, 1.8), (6.0, 1.0), (6.2, 1.3), (5.7, 1.3), (6.3, 1.9), (6.7, 2.5), (5.5, 1.2), (4.9, 1.0), (6.1, 1.4), (6.0, 1.6), (7.2, 2.5), (7.3, 1.8), (6.6, 1.4), (5.6, 2.0), (5.5, 1.0), (6.4, 2.2), (5.6, 1.3), (6.6, 1.3), (6.9, 2.1), (6.8, 2.1), (5.7, 1.3), (7.0, 1.4), (6.1, 1.4), (6.1, 1.8), (6.7, 1.7), (6.0, 1.5), (6.5, 1.8), (6.4, 1.5), (6.9, 1.5), (5.6, 1.3), (6.7, 1.4), (5.8, 1.9), (6.3, 1.3), (6.7, 2.1), (6.2, 2.3), (6.3, 2.4), (6.7, 1.8), (6.4, 2.3), (6.2, 1.5), (6.1, 1.4), (7.1, 2.1), (5.7, 1.0), (6.8, 1.4), (6.8, 2.3), (5.1, 1.1), (4.9, 1.7), (5.9, 1.8), (7.4, 1.9), (6.5, 2.0), (6.7, 1.5), (6.5, 2.0), (5.8, 1.0), (6.4, 2.1), (7.6, 2.1), (5.8, 2.4), (7.7, 2.2), (6.3, 1.5), (5.0, 1.0), (6.3, 1.6), (7.7, 2.3), (6.4, 1.9), (6.5, 2.2), (5.7, 1.2), (6.9, 2.3), (5.7, 1.3), (6.1, 1.2), (5.4, 1.5), (5.2, 1.4), (6.7, 2.3), (7.9, 2.0), (5.6, 1.1), (7.2, 1.8), (5.5, 1.3), (7.2, 1.6), (6.3, 2.5), (6.3, 1.8), (6.7, 2.4), (5.0, 1.0), (6.4, 1.8), (6.9, 2.3), (5.5, 1.3), (5.5, 1.1), (5.9, 1.5), (6.0, 1.5), (5.9, 1.8)])\n",
        "y_train = torch.tensor([0, 0, 0, 0, 0, 1, 1, 0, 0, 1, 1, 0, 1, 1, 0, 1, 0, 0, 0, 1, 1, 0, 0, 0, 0, 1, 1, 0, 1, 0, 1, 0, 0, 1, 1, 0, 0, 1, 1, 0, 1, 1, 0, 0, 0, 0, 1, 0, 1, 1, 1, 1, 1, 0, 0, 1, 0, 0, 1, 0, 1, 0, 1, 1, 0, 1, 0, 1, 1, 1, 1, 1, 0, 0, 1, 1, 1, 0, 1, 0, 0, 0, 0, 1, 1, 0, 1, 0, 1, 1, 1, 1, 0, 1, 1, 0, 0, 0, 0, 1])\n",
        "y_train = y_train.float()\n",
        "\n",
        "total = len(y_train) # размер обучающей выборки\n",
        "n_features = 3 # число параметров w0, w1, w2\n",
        "lr = 0.1 # шаг обучения\n",
        "N = 500 # число итераций градиентного алгоритма\n",
        "\n",
        "np.random.seed(1) # установка \"зерна\" генератора датчика случайных чисел\n",
        "\n",
        "X = torch.ones(total, 3)\n",
        "X[:, 1:3] = x_train # матрица формата [(1, x11, x12), (1, x21, x22), ..., (1, xn1, xn2)]\n",
        "\n",
        "w = torch.empty(n_features).uniform_(-1e-5, 1e-5) # начальные значения вектора w\n",
        "w.requires_grad_(True)\n",
        "\n",
        "# здесь продолжайте программу\n",
        "BCE_loss = torch.nn.BCEWithLogitsLoss()\n",
        "optimizer = optim.Adam(params=[w], lr=lr)\n",
        "for _ in range(N):\n",
        "    k = np.random.randint(0, total)\n",
        "    loss = BCE_loss(X[k] @ w, y_train[k])\n",
        "    loss.backward()\n",
        "    optimizer.step()\n",
        "    optimizer.zero_grad()\n",
        "\n",
        "Q = torch.mean((torch.sign(X @ w) == (y_train * 2 - 1)).float())\n"
      ],
      "metadata": {
        "id": "n0dfcKkxrwqG",
        "collapsed": true
      },
      "execution_count": null,
      "outputs": []
    },
    {
      "cell_type": "markdown",
      "source": [
        "Task 4"
      ],
      "metadata": {
        "id": "SH8OCKq1OtBC"
      }
    },
    {
      "cell_type": "code",
      "source": [
        "import numpy as np\n",
        "import torch\n",
        "import torch.optim as optim\n",
        "\n",
        "def model(x, w1, w2, b1, b2):\n",
        "    x = w1 @ x + b1\n",
        "    x = torch.tanh(x)\n",
        "    x = w2 @ x + b2\n",
        "    return x\n",
        "\n",
        "\n",
        "np.random.seed(1) # установка \"зерна\" генератора датчика случайных чисел\n",
        "torch.manual_seed(123)\n",
        "\n",
        "W1 = torch.empty(2, 2).normal_(0, 1e-5)\n",
        "bias1 = torch.rand(2, requires_grad=True)\n",
        "W2 = torch.empty(1, 2).normal_(0, 1e-5)\n",
        "bias2 = torch.rand(1, requires_grad=True)\n",
        "\n",
        "W1.requires_grad_(True)\n",
        "W2.requires_grad_(True)\n",
        "\n",
        "# обучающая выборка\n",
        "n_items = 20\n",
        "C00 = torch.empty(n_items, 2).normal_(0, 1)\n",
        "C11 = torch.empty(n_items, 2).normal_(0, 1) + torch.FloatTensor([5, 5])\n",
        "C01 = torch.empty(n_items, 2).normal_(0, 1) + torch.FloatTensor([0, 5])\n",
        "C10 = torch.empty(n_items, 2).normal_(0, 1) + torch.FloatTensor([5, 0])\n",
        "\n",
        "x_train = torch.cat([C00, C11, C01, C10])\n",
        "y_train = torch.cat([torch.ones(n_items * 2), torch.zeros(n_items * 2)])\n",
        "\n",
        "lr = 0.01  # шаг обучения\n",
        "N = 1000  # число итераций при обучении\n",
        "total = y_train.size(0) # размер обучающей выборки\n",
        "\n",
        "# здесь продолжайте программу\n",
        "\n",
        "Loss = torch.nn.BCEWithLogitsLoss()\n",
        "optimizer = optim.Adam(params=[W1, W2, bias1, bias2], lr=lr)\n",
        "\n",
        "for _ in range(N):\n",
        "    k = np.random.randint(0, total)\n",
        "    y = model(x_train[k], W1, W2, bias1, bias2)\n",
        "    loss = Loss(y, y_train[k].unsqueeze(0))\n",
        "    loss.backward()\n",
        "    optimizer.step()\n",
        "    optimizer.zero_grad()\n",
        "\n",
        "a = (np.sign([model(x, W1, W2, bias1, bias2).item() for x in x_train]) + 1) / 2\n",
        "Q = np.mean(a == y_train.numpy())\n",
        "Q"
      ],
      "metadata": {
        "id": "y-RTItFm43It",
        "colab": {
          "base_uri": "https://localhost:8080/"
        },
        "outputId": "1be97977-e28f-442c-e4ce-de542bb25fe1"
      },
      "execution_count": null,
      "outputs": [
        {
          "output_type": "execute_result",
          "data": {
            "text/plain": [
              "np.float64(0.95)"
            ]
          },
          "metadata": {},
          "execution_count": 35
        }
      ]
    },
    {
      "cell_type": "code",
      "source": [],
      "metadata": {
        "id": "z09ErDpRfLt2"
      },
      "execution_count": null,
      "outputs": []
    },
    {
      "cell_type": "markdown",
      "source": [
        "# 2.6 Классы nn.Linear и nn.Module"
      ],
      "metadata": {
        "id": "HRaEVEBbiraQ"
      }
    },
    {
      "cell_type": "markdown",
      "source": [
        "Task 1"
      ],
      "metadata": {
        "id": "X0LORlHbi1pK"
      }
    },
    {
      "cell_type": "code",
      "source": [
        "import torch\n",
        "import torch.nn as nn\n",
        "\n",
        "# тензор x в программе не менять\n",
        "x = torch.tensor(list(map(float, input().split())), dtype=torch.float32)\n",
        "\n",
        "# здесь продолжайте программу\n",
        "layer = nn.Linear(16, 1, bias=False)\n",
        "layer.weight = nn.Parameter(torch.ones(1, 16))\n",
        "round(layer(x).item(), 1)"
      ],
      "metadata": {
        "id": "L8mqHl8cis_d",
        "colab": {
          "base_uri": "https://localhost:8080/"
        },
        "outputId": "5c0fc60b-feea-4ba1-88cb-972a7748ae67"
      },
      "execution_count": null,
      "outputs": [
        {
          "name": "stdout",
          "output_type": "stream",
          "text": [
            " -1.6 7.8 3.6 0.1 3.7 5.9 -1.8 10.0 -0.6 -2.8 0.8 0.4 9.5 2.4 4.9 9.6\n"
          ]
        },
        {
          "output_type": "execute_result",
          "data": {
            "text/plain": [
              "51.9"
            ]
          },
          "metadata": {},
          "execution_count": 14
        }
      ]
    },
    {
      "cell_type": "markdown",
      "source": [
        "Task 2"
      ],
      "metadata": {
        "id": "8qfC0_hEtiel"
      }
    },
    {
      "cell_type": "code",
      "source": [
        "import torch\n",
        "import torch.nn as nn\n",
        "\n",
        "# здесь объявляйте класс модели (обязательно до тензора x)\n",
        "class TwoLayerModel(nn.Module):\n",
        "  def __init__(self):\n",
        "    super().__init__()\n",
        "    self.layer1 = nn.Linear(3, 2)\n",
        "    self.layer2 = nn.Linear(2, 1)\n",
        "\n",
        "  def forward(self, x):\n",
        "    x = self.layer1(x)\n",
        "    x = torch.sigmoid(x)\n",
        "    x = self.layer2(x)\n",
        "    return x\n",
        "\n",
        "model = TwoLayerModel()\n",
        "model.eval()\n",
        "\n",
        "x = torch.rand(3) # тензор x в программе не менять\n",
        "\n",
        "# здесь продолжайте программу\n",
        "predict = model(x)"
      ],
      "metadata": {
        "id": "zsji1DDflw9P"
      },
      "execution_count": null,
      "outputs": []
    },
    {
      "cell_type": "markdown",
      "source": [
        "Task 3"
      ],
      "metadata": {
        "id": "_-cVO6-GxKvR"
      }
    },
    {
      "cell_type": "code",
      "source": [
        "import torch\n",
        "import torch.nn as nn\n",
        "\n",
        "# здесь объявляйте класс модели (обязательно до тензора x)\n",
        "class ThreeLayersModel(nn.Module):\n",
        "  def __init__(self, n_input, layer1_input, layer2_input, n_output):\n",
        "    super().__init__()\n",
        "    self.layer1 = nn.Linear(n_input, layer1_input)\n",
        "    self.layer2 = nn.Linear(layer1_input, layer2_input)\n",
        "    self.layer3 = nn.Linear(layer2_input, n_output)\n",
        "\n",
        "  def forward(self, x):\n",
        "    x = self.layer1(x)\n",
        "    x = torch.tanh(x)\n",
        "    x = self.layer2(x)\n",
        "    x = torch.tanh(x)\n",
        "    x = self.layer3(x)\n",
        "    x = torch.tanh(x)\n",
        "    return x\n",
        "\n",
        "\n",
        "model = ThreeLayersModel(32, 10, 12, 1)\n",
        "model.eval()\n",
        "\n",
        "batch_size = 4\n",
        "x = torch.rand(batch_size, 32) # тензор x в программе не менять\n",
        "\n",
        "# здесь продолжайте программу\n",
        "predict = model(x)"
      ],
      "metadata": {
        "id": "ORBRI0Zwwi5n"
      },
      "execution_count": null,
      "outputs": []
    },
    {
      "cell_type": "code",
      "source": [
        "predict"
      ],
      "metadata": {
        "colab": {
          "base_uri": "https://localhost:8080/"
        },
        "id": "YBrsVMMG2l3f",
        "outputId": "f124a73b-e40d-4a81-d503-775f1338209a"
      },
      "execution_count": null,
      "outputs": [
        {
          "output_type": "execute_result",
          "data": {
            "text/plain": [
              "tensor([[0.3561],\n",
              "        [0.2227],\n",
              "        [0.3309],\n",
              "        [0.3334]], grad_fn=<TanhBackward0>)"
            ]
          },
          "metadata": {},
          "execution_count": 24
        }
      ]
    },
    {
      "cell_type": "markdown",
      "source": [
        "Task 4"
      ],
      "metadata": {
        "id": "RD-SJgNJ2-2H"
      }
    },
    {
      "cell_type": "code",
      "source": [
        "import torch\n",
        "import torch.nn as nn\n",
        "\n",
        "# здесь объявляйте класс модели (обязательно до тензора x_train)\n",
        "class MyModel(nn.Module):\n",
        "  def __init__(self):\n",
        "    super().__init__()\n",
        "    self.layer1 = nn.Linear(2, 3)\n",
        "    self.layer2 = nn.Linear(3, 1)\n",
        "\n",
        "  def forward(self, x):\n",
        "    x = self.layer1(x)\n",
        "    x = torch.tanh(x)\n",
        "    x = self.layer2(x)\n",
        "    x = torch.sigmoid(x)\n",
        "    return x\n",
        "\n",
        "model = MyModel()\n",
        "model.eval()\n",
        "\n",
        "# тензор x_train в программе не менять\n",
        "x_train = torch.tensor([(5.8, 1.2), (5.6, 1.5), (6.5, 1.5), (6.1, 1.3), (6.4, 1.3),\n",
        "                        (7.7, 2.0), (6.0, 1.8), (5.6, 1.3), (6.0, 1.6), (5.8, 1.9),\n",
        "                        (5.7, 2.0), (6.3, 1.5), (6.2, 1.8), (7.7, 2.3), (5.8, 1.2),\n",
        "                        (6.3, 1.8), (6.0, 1.0), (6.2, 1.3), (5.7, 1.3), (6.3, 1.9),\n",
        "                        (6.7, 2.5), (5.5, 1.2), (4.9, 1.0), (6.1, 1.4), (6.0, 1.6),\n",
        "                        (7.2, 2.5), (7.3, 1.8), (6.6, 1.4), (5.6, 2.0), (5.5, 1.0),\n",
        "                        (6.4, 2.2), (5.6, 1.3), (6.6, 1.3), (6.9, 2.1), (6.8, 2.1),\n",
        "                        (5.7, 1.3), (7.0, 1.4), (6.1, 1.4), (6.1, 1.8), (6.7, 1.7),\n",
        "                        (6.0, 1.5), (6.5, 1.8), (6.4, 1.5), (6.9, 1.5), (5.6, 1.3),\n",
        "                        (6.7, 1.4), (5.8, 1.9), (6.3, 1.3), (6.7, 2.1), (6.2, 2.3),\n",
        "                        (6.3, 2.4), (6.7, 1.8), (6.4, 2.3), (6.2, 1.5), (6.1, 1.4),\n",
        "                        (7.1, 2.1), (5.7, 1.0), (6.8, 1.4), (6.8, 2.3), (5.1, 1.1),\n",
        "                        (4.9, 1.7), (5.9, 1.8), (7.4, 1.9), (6.5, 2.0), (6.7, 1.5),\n",
        "                        (6.5, 2.0), (5.8, 1.0), (6.4, 2.1), (7.6, 2.1), (5.8, 2.4),\n",
        "                        (7.7, 2.2), (6.3, 1.5), (5.0, 1.0), (6.3, 1.6), (7.7, 2.3),\n",
        "                        (6.4, 1.9), (6.5, 2.2), (5.7, 1.2), (6.9, 2.3), (5.7, 1.3),\n",
        "                        (6.1, 1.2), (5.4, 1.5), (5.2, 1.4), (6.7, 2.3), (7.9, 2.0),\n",
        "                        (5.6, 1.1), (7.2, 1.8), (5.5, 1.3), (7.2, 1.6), (6.3, 2.5),\n",
        "                        (6.3, 1.8), (6.7, 2.4), (5.0, 1.0), (6.4, 1.8), (6.9, 2.3),\n",
        "                        (5.5, 1.3), (5.5, 1.1), (5.9, 1.5), (6.0, 1.5), (5.9, 1.8)])\n",
        "\n",
        "# здесь продолжайте программу\n",
        "predict = []\n",
        "for x in x_train:\n",
        "  with torch.no_grad():\n",
        "    y = model(x)\n",
        "    predict.append(y.item())"
      ],
      "metadata": {
        "id": "m_nJ7GPa2mss"
      },
      "execution_count": null,
      "outputs": []
    },
    {
      "cell_type": "markdown",
      "source": [
        "Task 5"
      ],
      "metadata": {
        "id": "_Hpw5O_8ukxe"
      }
    },
    {
      "cell_type": "code",
      "source": [
        "import numpy as np\n",
        "import torch\n",
        "import torch.nn as nn\n",
        "import torch.optim as optim\n",
        "\n",
        "# здесь объявляйте класс TriagModel\n",
        "class TriagModel(nn.Module):\n",
        "    def __init__(self):\n",
        "        super().__init__()\n",
        "        self.layer1 = nn.Linear(3, 1, bias=False)\n",
        "\n",
        "    def forward(self, x):\n",
        "        x = self.layer1(x)\n",
        "        return x\n",
        "\n",
        "\n",
        "np.random.seed(1)\n",
        "torch.manual_seed(1)\n",
        "\n",
        "total = 100\n",
        "x_train = torch.randint(1, 10, (total, 3), dtype=torch.float32)\n",
        "y_train = x_train.sum(dim=1) / 3\n",
        "\n",
        "# здесь создавайте модель (model)\n",
        "# переведите модель в режим обучения\n",
        "model = TriagModel()\n",
        "model.eval()\n",
        "\n",
        "lr = 0.01 # шаг обучения\n",
        "N = 1000 # число итераций SGD\n",
        "\n",
        "optimizer = optim.Adam(params=model.parameters(), lr=lr)\n",
        "loss_func = nn.MSELoss()# здесь создайте функцию потерь с помощью класса nn.MSELoss\n",
        "\n",
        "for _ in range(N):\n",
        "    k = np.random.randint(0, total)\n",
        "    predict = model(x_train[k])\n",
        "    loss = loss_func(predict, y_train[k])# вычислите значение функции потерь и сохраните результат в переменной loss\n",
        "\n",
        "    optimizer.zero_grad()\n",
        "    loss.backward()\n",
        "    optimizer.step()"
      ],
      "metadata": {
        "colab": {
          "base_uri": "https://localhost:8080/"
        },
        "id": "bMpp-USAlh09",
        "outputId": "a0334b0b-d69a-4d4e-b3be-93d9129c90ba"
      },
      "execution_count": null,
      "outputs": [
        {
          "output_type": "stream",
          "name": "stderr",
          "text": [
            "/usr/local/lib/python3.11/dist-packages/torch/nn/modules/loss.py:610: UserWarning: Using a target size (torch.Size([])) that is different to the input size (torch.Size([1])). This will likely lead to incorrect results due to broadcasting. Please ensure they have the same size.\n",
            "  return F.mse_loss(input, target, reduction=self.reduction)\n"
          ]
        }
      ]
    },
    {
      "cell_type": "markdown",
      "source": [
        "Task 6"
      ],
      "metadata": {
        "id": "-mefOLmbgVtu"
      }
    },
    {
      "cell_type": "code",
      "source": [
        "import numpy as np\n",
        "import torch\n",
        "import torch.nn as nn\n",
        "import torch.optim as optim\n",
        "\n",
        "# здесь объявляйте класс ClassModel\n",
        "class ClassModel(nn.Module):\n",
        "    def __init__(self):\n",
        "        super().__init__()\n",
        "        self.layer1 = nn.Linear(2,3)\n",
        "        self.layer2 = nn.Linear(3,1)\n",
        "\n",
        "    def forward(self, x):\n",
        "        x = self.layer1(x)\n",
        "        x = torch.relu(x)\n",
        "        x = self.layer2(x)\n",
        "        return x\n",
        "\n",
        "\n",
        "np.random.seed(1)\n",
        "torch.manual_seed(1)\n",
        "\n",
        "# обучающая выборка: x_train - входные значения; y_train - целевые значения\n",
        "x_train = torch.tensor([(5.8, 1.2), (5.6, 1.5), (6.5, 1.5), (6.1, 1.3), (6.4, 1.3), (7.7, 2.0), (6.0, 1.8), (5.6, 1.3), (6.0, 1.6), (5.8, 1.9), (5.7, 2.0), (6.3, 1.5), (6.2, 1.8), (7.7, 2.3), (5.8, 1.2), (6.3, 1.8), (6.0, 1.0), (6.2, 1.3), (5.7, 1.3), (6.3, 1.9), (6.7, 2.5), (5.5, 1.2), (4.9, 1.0), (6.1, 1.4), (6.0, 1.6), (7.2, 2.5), (7.3, 1.8), (6.6, 1.4), (5.6, 2.0), (5.5, 1.0), (6.4, 2.2), (5.6, 1.3), (6.6, 1.3), (6.9, 2.1), (6.8, 2.1), (5.7, 1.3), (7.0, 1.4), (6.1, 1.4), (6.1, 1.8), (6.7, 1.7), (6.0, 1.5), (6.5, 1.8), (6.4, 1.5), (6.9, 1.5), (5.6, 1.3), (6.7, 1.4), (5.8, 1.9), (6.3, 1.3), (6.7, 2.1), (6.2, 2.3), (6.3, 2.4), (6.7, 1.8), (6.4, 2.3), (6.2, 1.5), (6.1, 1.4), (7.1, 2.1), (5.7, 1.0), (6.8, 1.4), (6.8, 2.3), (5.1, 1.1), (4.9, 1.7), (5.9, 1.8), (7.4, 1.9), (6.5, 2.0), (6.7, 1.5), (6.5, 2.0), (5.8, 1.0), (6.4, 2.1), (7.6, 2.1), (5.8, 2.4), (7.7, 2.2), (6.3, 1.5), (5.0, 1.0), (6.3, 1.6), (7.7, 2.3), (6.4, 1.9), (6.5, 2.2), (5.7, 1.2), (6.9, 2.3), (5.7, 1.3), (6.1, 1.2), (5.4, 1.5), (5.2, 1.4), (6.7, 2.3), (7.9, 2.0), (5.6, 1.1), (7.2, 1.8), (5.5, 1.3), (7.2, 1.6), (6.3, 2.5), (6.3, 1.8), (6.7, 2.4), (5.0, 1.0), (6.4, 1.8), (6.9, 2.3), (5.5, 1.3), (5.5, 1.1), (5.9, 1.5), (6.0, 1.5), (5.9, 1.8)])\n",
        "y_train = torch.FloatTensor([0, 0, 0, 0, 0, 1, 1, 0, 0, 1, 1, 0, 1, 1, 0, 1, 0, 0, 0, 1, 1, 0, 0, 0, 0, 1, 1, 0, 1, 0, 1, 0, 0, 1, 1, 0, 0, 1, 1, 0, 1, 1, 0, 0, 0, 0, 1, 0, 1, 1, 1, 1, 1, 0, 0, 1, 0, 0, 1, 0, 1, 0, 1, 1, 0, 1, 0, 1, 1, 1, 1, 1, 0, 0, 1, 1, 1, 0, 1, 0, 0, 0, 0, 1, 1, 0, 1, 0, 1, 1, 1, 1, 0, 1, 1, 0, 0, 0, 0, 1])\n",
        "\n",
        "model = ClassModel()\n",
        "model.eval()\n",
        "\n",
        "total = x_train.size(0) # размер обучающей выборки\n",
        "N = 1000 # число итераций алгоритма SGD\n",
        "batch_size = 8\n",
        "\n",
        "optimizer = optim.Adam(params=model.parameters(), lr=0.01)# задайте оптимизатор Adam с шагом обучения lr=0.01\n",
        "loss_func = nn.BCEWithLogitsLoss()\n",
        "\n",
        "for _ in range(N):\n",
        "    idx = np.random.choice(total, batch_size, False)\n",
        "    # пропустите через модель k-й образ выборки x_train и вычислите прогноз predict\n",
        "    predict = model(x_train[idx])\n",
        "    loss = loss_func(predict.squeeze(1), y_train[idx])\n",
        "\n",
        "    optimizer.zero_grad()\n",
        "    loss.backward()\n",
        "    optimizer.step()\n",
        "\n",
        "\n",
        "with torch.no_grad():\n",
        "    a_new = ([1 if model(x_train[i]) > 0 else 0 for i in range(total)])\n",
        "    Q = np.array([1 if a_new[i] == y_train[i] else 0 for i in range(total)]).mean()\n"
      ],
      "metadata": {
        "id": "ZK1ySI1tuoAY"
      },
      "execution_count": null,
      "outputs": []
    },
    {
      "cell_type": "code",
      "source": [
        "Q"
      ],
      "metadata": {
        "colab": {
          "base_uri": "https://localhost:8080/"
        },
        "id": "AYJ-QQYFkODk",
        "outputId": "21f7e909-3c0e-4c11-f459-24ee0cfe2f83"
      },
      "execution_count": null,
      "outputs": [
        {
          "output_type": "execute_result",
          "data": {
            "text/plain": [
              "np.float64(0.93)"
            ]
          },
          "metadata": {},
          "execution_count": 34
        }
      ]
    },
    {
      "cell_type": "markdown",
      "source": [
        "# 2.8 Классы Dataset и Dataloader"
      ],
      "metadata": {
        "id": "Ri3t_A_N-087"
      }
    },
    {
      "cell_type": "markdown",
      "source": [
        "Task 1"
      ],
      "metadata": {
        "id": "iU7M2mfpD0io"
      }
    },
    {
      "cell_type": "code",
      "source": [
        "import torch\n",
        "import torch.nn as nn\n",
        "import torch.utils.data as data\n",
        "\n",
        "# здесь продолжайте программу\n",
        "func = lambda x: 2 * torch.exp(-x / 2) + 0.2 * torch.sin(x / 10) - 5\n",
        "\n",
        "coord_x = torch.arange(-5, 5, 0.1)\n",
        "\n",
        "class FuncDataset(data.Dataset):\n",
        "  def __init__(self):\n",
        "    self.data = coord_x\n",
        "    self.targets = torch.FloatTensor([func(x) for x in coord_x])\n",
        "\n",
        "  def __len__(self):\n",
        "    return len(self.data)\n",
        "\n",
        "  def __getitem__(self, item):\n",
        "        return tuple([self.data[item], self.targets[item]])\n",
        "\n",
        "d_train = FuncDataset()\n",
        "x13, y13 = d_train[13]\n",
        "total = len(d_train)"
      ],
      "metadata": {
        "id": "ZzwdTB-llCPC"
      },
      "execution_count": null,
      "outputs": []
    },
    {
      "cell_type": "markdown",
      "source": [
        "Task 2"
      ],
      "metadata": {
        "id": "vj1b9LutI8IK"
      }
    },
    {
      "cell_type": "code",
      "source": [
        "import torch\n",
        "import torch.nn as nn\n",
        "import torch.utils.data as data\n",
        "\n",
        "data_y = [1, 1, -1, 1, -1, 1, 1, -1, 1, 1, 1, -1, 1, -1, -1, -1, -1, -1, -1, 1, -1, -1, -1, 1, -1, 1, -1, 1, 1, 1, 1, -1, 1, -1, -1, -1, 1, 1, -1, -1, 1, 1, 1, 1, -1, 1, -1, -1, 1, 1, -1, 1, -1, -1, 1, -1, -1, 1, 1, 1, -1, 1, -1, -1, 1, 1, -1, 1, -1, 1, 1, 1, -1, 1, -1, 1, 1, 1, 1, -1, -1, 1, 1, -1, -1, -1, 1, -1, -1, 1, -1, 1, 1, -1, 1, -1, -1, -1, -1, -1]\n",
        "\n",
        "# здесь продолжайте программу\n",
        "class ClassDataset(data.Dataset):\n",
        "  def __init__(self):\n",
        "    self.data = torch.FloatTensor([(5.3, 2.3), (5.7, 2.5), (4.0, 1.0), (5.6, 2.4), (4.5, 1.5), (5.4, 2.3), (4.8, 1.8), (4.5, 1.5), (5.1, 1.5), (6.1, 2.3), (5.1, 1.9), (4.0, 1.2), (5.2, 2.0), (3.9, 1.4), (4.2, 1.2), (4.7, 1.5), (4.8, 1.8), (3.6, 1.3), (4.6, 1.4), (4.5, 1.7), (3.0, 1.1), (4.3, 1.3), (4.5, 1.3), (5.5, 2.1), (3.5, 1.0), (5.6, 2.2), (4.2, 1.5), (5.8, 1.8), (5.5, 1.8), (5.7, 2.3), (6.4, 2.0), (5.0, 1.7), (6.7, 2.0), (4.0, 1.3), (4.4, 1.4), (4.5, 1.5), (5.6, 2.4), (5.8, 1.6), (4.6, 1.3), (4.1, 1.3), (5.1, 2.3), (5.2, 2.3), (5.6, 1.4), (5.1, 1.8), (4.9, 1.5), (6.7, 2.2), (4.4, 1.3), (3.9, 1.1), (6.3, 1.8), (6.0, 1.8), (4.5, 1.6), (6.6, 2.1), (4.1, 1.3), (4.5, 1.5), (6.1, 2.5), (4.1, 1.0), (4.4, 1.2), (5.4, 2.1), (5.0, 1.5), (5.0, 2.0), (4.9, 1.5), (5.9, 2.1), (4.3, 1.3), (4.0, 1.3), (4.9, 2.0), (4.9, 1.8), (4.0, 1.3), (5.5, 1.8), (3.7, 1.0), (6.9, 2.3), (5.7, 2.1), (5.3, 1.9), (4.4, 1.4), (5.6, 1.8), (3.3, 1.0), (4.8, 1.8), (6.0, 2.5), (5.9, 2.3), (4.9, 1.8), (3.3, 1.0), (3.9, 1.2), (5.6, 2.1), (5.8, 2.2), (3.8, 1.1), (3.5, 1.0), (4.5, 1.5), (5.1, 1.9), (4.7, 1.4), (5.1, 1.6), (5.1, 2.0), (4.8, 1.4), (5.0, 1.9), (5.1, 2.4), (4.6, 1.5), (6.1, 1.9), (4.7, 1.6), (4.7, 1.4), (4.7, 1.2), (4.2, 1.3), (4.2, 1.3)])\n",
        "    self.targets = torch.FloatTensor([1, 1, -1, 1, -1, 1, 1, -1, 1, 1, 1, -1, 1, -1, -1, -1, -1, -1, -1, 1, -1, -1, -1, 1, -1, 1, -1, 1, 1, 1, 1, -1, 1, -1, -1, -1, 1, 1, -1, -1, 1, 1, 1, 1, -1, 1, -1, -1, 1, 1, -1, 1, -1, -1, 1, -1, -1, 1, 1, 1, -1, 1, -1, -1, 1, 1, -1, 1, -1, 1, 1, 1, -1, 1, -1, 1, 1, 1, 1, -1, -1, 1, 1, -1, -1, -1, 1, -1, -1, 1, -1, 1, 1, -1, 1, -1, -1, -1, -1, -1])\n",
        "\n",
        "  def __len__(self):\n",
        "    return len(self.targets)\n",
        "\n",
        "  def __getitem__(self, indx):\n",
        "    return tuple([self.data[indx], self.targets[indx]])\n",
        "\n",
        "\n",
        "batch_size = 12\n",
        "d_train = ClassDataset()\n",
        "train_data = data.DataLoader(d_train, batch_size, shuffle=True, drop_last=True)\n",
        "data_sum = torch.zeros(batch_size, 2)\n",
        "for n in train_data:\n",
        "    data_sum += n[0]\n"
      ],
      "metadata": {
        "id": "vKBR4MnhIuNT"
      },
      "execution_count": null,
      "outputs": []
    },
    {
      "cell_type": "markdown",
      "source": [
        "# 2.9 Применение классов Dataset и Dataloader"
      ],
      "metadata": {
        "id": "H90BQdDCpIT0"
      }
    },
    {
      "cell_type": "markdown",
      "source": [
        "Task 1"
      ],
      "metadata": {
        "id": "A6uba0DIpL0b"
      }
    },
    {
      "cell_type": "code",
      "source": [
        "import torch\n",
        "import torch.nn as nn\n",
        "import torch.utils.data as data\n",
        "\n",
        "class LinnerudDataset(data.Dataset):\n",
        "      def __init__(self):\n",
        "          data_x = [[5.0, 162.0, 60.0], [2.0, 110.0, 60.0], [12.0, 101.0, 101.0], [12.0, 105.0, 37.0], [13.0, 155.0, 58.0], [4.0, 101.0, 42.0], [8.0, 101.0, 38.0], [6.0, 125.0, 40.0], [15.0, 200.0, 40.0], [17.0, 251.0, 250.0], [17.0, 120.0, 38.0], [13.0, 210.0, 115.0], [14.0, 215.0, 105.0], [1.0, 50.0, 50.0], [6.0, 70.0, 31.0], [12.0, 210.0, 120.0], [4.0, 60.0, 25.0], [11.0, 230.0, 80.0], [15.0, 225.0, 73.0], [2.0, 110.0, 43.0]]\n",
        "          target = [[191.,  36.,  50.], [189.,  37.,  52.], [193.,  38.,  58.], [162.,  35.,  62.], [189.,  35.,  46.], [182.,  36.,  56.], [211.,  38.,  56.], [167.,  34.,  60.], [176.,  31.,  74.], [154.,  33.,  56.], [169.,  34.,  50.], [166.,  33.,  52.], [154.,  34.,  64.], [247.,  46.,  50.], [193.,  36.,  46.], [202.,  37.,  62.], [176.,  37.,  54.], [157.,  32.,  52.], [156.,  33.,  54.], [138.,  33.,  68.]]\n",
        "          self.data = torch.FloatTensor(data_x)\n",
        "          self.targets = torch.FloatTensor(target)\n",
        "          self.categories = ['Weight', 'Waist', 'Pulse']\n",
        "          self.features = ['Chins', 'Situps', 'Jumps']\n",
        "\n",
        "      def __len__(self):\n",
        "          return len(self.targets)\n",
        "\n",
        "      def __getitem__(self, indx):\n",
        "          return tuple([self.data[indx], self.targets[indx]])\n",
        "\n",
        "\n",
        "d_train = LinnerudDataset()\n",
        "train_data = data.DataLoader(d_train, batch_size=8, shuffle=False, drop_last=False)\n",
        "train_data = iter(train_data)\n",
        "next(train_data)\n",
        "x, y = next(train_data)"
      ],
      "metadata": {
        "id": "nf7hREv_FfkF"
      },
      "execution_count": null,
      "outputs": []
    },
    {
      "cell_type": "markdown",
      "source": [
        "Task 2"
      ],
      "metadata": {
        "id": "Kho88UuU_Smm"
      }
    },
    {
      "cell_type": "code",
      "source": [
        "import torch\n",
        "import torch.utils.data as data\n",
        "import torch.nn as nn\n",
        "import torch.optim as optim\n",
        "\n",
        "\n",
        "class FuncDataset(data.Dataset):\n",
        "    def __init__(self):\n",
        "        _x = torch.arange(-5, 5, 0.1)\n",
        "        self.data = _x\n",
        "        func = lambda x: torch.sin(2 * x) + 0.2 * torch.cos(10 * x) + 0.1 * x**2\n",
        "        self.target = torch.FloatTensor([func(x) for x in self.data]) # значения функции в точках _x\n",
        "        self.length = len(self.data)# размер обучающей выборки\n",
        "\n",
        "    def __getitem__(self, item):\n",
        "        return self.data[item], self.target[item] # возврат образа по индексу item в виде кортежа: (данные, целевое значение)\n",
        "\n",
        "    def __len__(self):\n",
        "        return self.length# возврат размера выборки\n",
        "\n",
        "\n",
        "class FuncModel(nn.Module):\n",
        "    def __init__(self):\n",
        "        super().__init__()\n",
        "        self.layer1 = nn.Linear(3, 1)\n",
        "        # модель однослойной полносвязной нейронной сети:\n",
        "        # 1-й слой: число входов 3 (x, x^2, x^3), число нейронов 1\n",
        "\n",
        "    def forward(self, x):\n",
        "        xx = torch.empty(x.size(0), 3)\n",
        "        xx[:, 0] = x\n",
        "        xx[:, 1] = x ** 2\n",
        "        xx[:, 2] = x ** 3\n",
        "        y = self.layer1(xx)\n",
        "        return y\n",
        "\n",
        "\n",
        "torch.manual_seed(1)\n",
        "\n",
        "# создать модель FuncModel\n",
        "# перевести модель в режим обучения\n",
        "model = FuncModel()\n",
        "model.train()\n",
        "\n",
        "epochs = 20 # число эпох обучения\n",
        "batch_size = 8 # размер батча\n",
        "\n",
        "d_train = FuncDataset()# создать объект класса FuncDataset\n",
        "train_data = data.DataLoader(d_train, batch_size=batch_size, shuffle=True, drop_last=False) # создать объект класса DataLoader с размером пакетов batch_size и перемешиванием образов выборки\n",
        "\n",
        "optimizer = optim.Adam(params=model.parameters(), lr=0.01) # создать оптимизатор Adam для обучения модели с шагом обучения 0.01\n",
        "loss_func = nn.MSELoss() # создать функцию потерь с помощью класса MSELoss\n",
        "\n",
        "for _e in range(epochs): # итерации по эпохам\n",
        "    for x_train, y_train in train_data:\n",
        "        predict = model(x_train).squeeze()  # вычислить прогноз модели для данных x_train\n",
        "        loss = loss_func(predict, y_train)  # вычислить значение функции потерь\n",
        "\n",
        "        optimizer.zero_grad()\n",
        "        loss.backward()\n",
        "        optimizer.step()\n",
        "\n",
        "\n",
        "model.eval()\n",
        "predict = model(d_train.data)\n",
        "# перевести модель в режим эксплуатации\n",
        "# выполнить прогноз модели по всем данным выборки (d_train.data)\n",
        "Q = loss_func(predict.data.squeeze(), d_train.target).item()   # вычислить потери с помощью loss_func по всем данным выборки; значение Q сохранить в виде вещественного числа"
      ],
      "metadata": {
        "id": "VhKDVy2rak8b"
      },
      "execution_count": 17,
      "outputs": []
    },
    {
      "cell_type": "code",
      "source": [
        "Q"
      ],
      "metadata": {
        "colab": {
          "base_uri": "https://localhost:8080/"
        },
        "id": "wqiEV3GHJl7h",
        "outputId": "210337e5-ea82-4ba2-8792-e6437e7a9ee2"
      },
      "execution_count": 18,
      "outputs": [
        {
          "output_type": "execute_result",
          "data": {
            "text/plain": [
              "0.5361676812171936"
            ]
          },
          "metadata": {},
          "execution_count": 18
        }
      ]
    },
    {
      "cell_type": "code",
      "source": [
        "# График\n",
        "import matplotlib.pyplot as plt\n",
        "\n",
        "plt.plot(d_train.data, d_train.target, label='Функция')\n",
        "plt.plot(d_train.data,predict.detach(), label='Прогноз')\n",
        "plt.legend()\n",
        "plt.title('Исходная функция и прогноз модели')\n",
        "plt.grid()\n",
        "plt.show()"
      ],
      "metadata": {
        "colab": {
          "base_uri": "https://localhost:8080/",
          "height": 452
        },
        "id": "sQx6cawjLCDH",
        "outputId": "59e93422-c2d3-48f9-f95c-5e0eadea7bbb"
      },
      "execution_count": 23,
      "outputs": [
        {
          "output_type": "display_data",
          "data": {
            "text/plain": [
              "<Figure size 640x480 with 1 Axes>"
            ],
            "image/png": "[encoded data removed]"
          },
          "metadata": {}
        }
      ]
    },
    {
      "cell_type": "code",
      "source": [],
      "metadata": {
        "id": "tgzDQke5feWY"
      },
      "execution_count": null,
      "outputs": []
    }
  ]
}
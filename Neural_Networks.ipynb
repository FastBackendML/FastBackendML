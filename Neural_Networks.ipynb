{
  "nbformat": 4,
  "nbformat_minor": 0,
  "metadata": {
    "colab": {
      "provenance": [],
      "authorship_tag": "ABX9TyPoyCDkF6sRBuOh/knPGsHc",
      "include_colab_link": true
    },
    "kernelspec": {
      "name": "python3",
      "display_name": "Python 3"
    },
    "language_info": {
      "name": "python"
    }
  },
  "cells": [
    {
      "cell_type": "markdown",
      "metadata": {
        "id": "view-in-github",
        "colab_type": "text"
      },
      "source": [
        "<a href=\"https://colab.research.google.com/github/FastBackendML/FastBackendML/blob/main/Neural_Networks.ipynb\" target=\"_parent\"><img src=\"https://colab.research.google.com/assets/colab-badge.svg\" alt=\"Open In Colab\"/></a>"
      ]
    },
    {
      "cell_type": "markdown",
      "source": [
        "#1.10 Использование CPU и GPU на примере простой НС"
      ],
      "metadata": {
        "id": "SMqb4Tzb5qQl"
      }
    },
    {
      "cell_type": "code",
      "source": [
        "import torch"
      ],
      "metadata": {
        "id": "RFQDfawm5r2r"
      },
      "execution_count": null,
      "outputs": []
    },
    {
      "cell_type": "code",
      "source": [
        "torch.cuda.is_available()"
      ],
      "metadata": {
        "colab": {
          "base_uri": "https://localhost:8080/"
        },
        "id": "c8n1ptGH54og",
        "outputId": "99fd76ff-d7d9-4a47-ed03-16b1e613bec9"
      },
      "execution_count": null,
      "outputs": [
        {
          "output_type": "execute_result",
          "data": {
            "text/plain": [
              "False"
            ]
          },
          "metadata": {},
          "execution_count": 4
        }
      ]
    },
    {
      "cell_type": "code",
      "source": [
        "device = torch.device('cuda' if torch.cuda.is_available() else 'cpu')\n",
        "t1 = torch.arange(1,6, dtype=torch.int32, device=device)\n",
        "t2 = torch.ones(15, dtype=torch.float32, device=device).view(3,5)\n",
        "t_res = t2.matmul(t1.float()).to(device='cpu')"
      ],
      "metadata": {
        "id": "iI8h0ORDHJoM"
      },
      "execution_count": null,
      "outputs": []
    },
    {
      "cell_type": "code",
      "source": [
        "t_res"
      ],
      "metadata": {
        "colab": {
          "base_uri": "https://localhost:8080/"
        },
        "id": "g9NwZDzFHLPv",
        "outputId": "0e90d59a-fdc2-4b0d-8be7-c29bba6b8622"
      },
      "execution_count": null,
      "outputs": [
        {
          "output_type": "execute_result",
          "data": {
            "text/plain": [
              "tensor([15., 15., 15.])"
            ]
          },
          "metadata": {},
          "execution_count": 24
        }
      ]
    },
    {
      "cell_type": "markdown",
      "source": [
        "Task 2"
      ],
      "metadata": {
        "id": "4Az6bvbQIOQi"
      }
    },
    {
      "cell_type": "code",
      "source": [
        "device = torch.device(\"cuda\" if torch.cuda.is_available() else \"cpu\")"
      ],
      "metadata": {
        "id": "uNcp6ojOIRvv"
      },
      "execution_count": null,
      "outputs": []
    },
    {
      "cell_type": "code",
      "source": [
        "targets = torch.rand(1000).to(device)\n",
        "predict = torch.rand(1000).to(device)"
      ],
      "metadata": {
        "id": "qlHM-8wZIhzL"
      },
      "execution_count": null,
      "outputs": []
    },
    {
      "cell_type": "code",
      "source": [
        "Q = torch.sum(torch.pow((targets - predict), 2)) / 1000"
      ],
      "metadata": {
        "id": "qIXmg5tbInIO"
      },
      "execution_count": null,
      "outputs": []
    },
    {
      "cell_type": "code",
      "source": [
        "Q = Q.to('cpu')"
      ],
      "metadata": {
        "id": "eWtFaaqNJLgi"
      },
      "execution_count": null,
      "outputs": []
    },
    {
      "cell_type": "code",
      "source": [
        "Q"
      ],
      "metadata": {
        "colab": {
          "base_uri": "https://localhost:8080/"
        },
        "id": "wFoUv_VMJbQG",
        "outputId": "145a2363-bc98-4bbb-c02f-84fc8e69dd17"
      },
      "execution_count": null,
      "outputs": [
        {
          "output_type": "execute_result",
          "data": {
            "text/plain": [
              "tensor(169.7121)"
            ]
          },
          "metadata": {},
          "execution_count": 30
        }
      ]
    },
    {
      "cell_type": "markdown",
      "source": [
        "Task 3"
      ],
      "metadata": {
        "id": "c3h-_3SmKXs6"
      }
    },
    {
      "cell_type": "code",
      "source": [
        "device = torch.device(\"cuda\" if torch.cuda.is_available() else \"cpu\")\n",
        "\n",
        "w = torch.rand(1, 16).to(device) # вектор-строка\n",
        "X = torch.rand(16, 16).to(device) # матрица 16 x 16\n",
        "I = torch.eye(16).to(device) # единичная матрица 16 x 16\n",
        "lm = 0.5 # значение лямбда"
      ],
      "metadata": {
        "id": "ALJ8qMu9Jovx"
      },
      "execution_count": null,
      "outputs": []
    },
    {
      "cell_type": "code",
      "source": [
        "Q = w.matmul((X.add(I.mul(lm)))).matmul(w.transpose(0,1))"
      ],
      "metadata": {
        "id": "_WUz_7DcLtKt"
      },
      "execution_count": null,
      "outputs": []
    },
    {
      "cell_type": "code",
      "source": [
        "Q.to('cpu')"
      ],
      "metadata": {
        "colab": {
          "base_uri": "https://localhost:8080/"
        },
        "id": "LZkhGaFRNXC9",
        "outputId": "65329988-bbd5-4f9a-8f87-a8f0db0dbac1"
      },
      "execution_count": null,
      "outputs": [
        {
          "output_type": "execute_result",
          "data": {
            "text/plain": [
              "tensor([[27.8480]])"
            ]
          },
          "metadata": {},
          "execution_count": 33
        }
      ]
    },
    {
      "cell_type": "markdown",
      "source": [
        "Task 4"
      ],
      "metadata": {
        "id": "jbQSBwo9OZr-"
      }
    },
    {
      "cell_type": "code",
      "source": [
        "import torch\n",
        "# все эти переменные в программе не менять, только тензоры разместить на device\n",
        "device = torch.device(\"cuda\" if torch.cuda.is_available() else \"cpu\")\n",
        "\n",
        "W = torch.rand(3) * 10 - 5\n",
        "bias = torch.rand(1) * 100 - 50\n",
        "\n",
        "batch_size = 8 # размер мини-батча\n",
        "X = torch.empty(batch_size, 3).normal_(mean=-1.0, std=4.0).to(device)\n",
        "predict = (X.to(device).mv(W.to(device)) + bias.to(device)).sigmoid()"
      ],
      "metadata": {
        "id": "YQZ4CZXlNa7s"
      },
      "execution_count": 1,
      "outputs": []
    },
    {
      "cell_type": "code",
      "source": [],
      "metadata": {
        "id": "XeJkpK6lP3tm"
      },
      "execution_count": null,
      "outputs": []
    }
  ]
}